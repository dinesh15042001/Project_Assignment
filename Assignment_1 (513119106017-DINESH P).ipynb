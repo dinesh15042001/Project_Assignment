{
  "nbformat": 4,
  "nbformat_minor": 0,
  "metadata": {
    "colab": {
      "provenance": [],
      "collapsed_sections": []
    },
    "kernelspec": {
      "name": "python3",
      "display_name": "Python 3"
    },
    "language_info": {
      "name": "python"
    }
  },
  "cells": [
    {
      "cell_type": "markdown",
      "source": [
        "# Basic Python"
      ],
      "metadata": {
        "id": "McSxJAwcOdZ1"
      }
    },
    {
      "cell_type": "markdown",
      "source": [
        "## 1. Split this string"
      ],
      "metadata": {
        "id": "CU48hgo4Owz5"
      }
    },
    {
      "cell_type": "code",
      "source": [
        "s = \"Hi there Sam!\""
      ],
      "metadata": {
        "id": "s07c7JK7Oqt-"
      },
      "execution_count": null,
      "outputs": []
    },
    {
      "cell_type": "code",
      "source": [
        "s = \"Hi there Sam!\"\n",
        "x = s.split()\n",
        "print(x)"
      ],
      "metadata": {
        "id": "6mGVa3SQYLkb",
        "colab": {
          "base_uri": "https://localhost:8080/"
        },
        "outputId": "5d349876-2465-4884-9860-8f1d779edcdb"
      },
      "execution_count": 1,
      "outputs": [
        {
          "output_type": "stream",
          "name": "stdout",
          "text": [
            "['Hi', 'there', 'Sam!']\n"
          ]
        }
      ]
    },
    {
      "cell_type": "markdown",
      "source": [
        "## 2. Use .format() to print the following string. \n",
        "\n",
        "### Output should be: The diameter of Earth is 12742 kilometers."
      ],
      "metadata": {
        "id": "GH1QBn8HP375"
      }
    },
    {
      "cell_type": "code",
      "source": [
        "planet = \"Earth\"\n",
        "diameter = 12742"
      ],
      "metadata": {
        "id": "_ZHoml3kPqic"
      },
      "execution_count": null,
      "outputs": []
    },
    {
      "cell_type": "code",
      "source": [
        "planet = \"Earth\"\n",
        "diameter = 12742\n",
        "print('The diameter of {} is {} Kilometers.'.format(planet,diameter));"
      ],
      "metadata": {
        "id": "HyRyJv6CYPb4",
        "colab": {
          "base_uri": "https://localhost:8080/"
        },
        "outputId": "048210e7-1f79-483a-dffa-9b8c54bdafd2"
      },
      "execution_count": 3,
      "outputs": [
        {
          "output_type": "stream",
          "name": "stdout",
          "text": [
            "The diameter of Earth is 12742 Kilometers.\n"
          ]
        }
      ]
    },
    {
      "cell_type": "markdown",
      "source": [
        "## 3. In this nest dictionary grab the word \"hello\""
      ],
      "metadata": {
        "id": "KE74ZEwkRExZ"
      }
    },
    {
      "cell_type": "code",
      "source": [
        "d = {'k1':[1,2,3,{'tricky':['oh','man','inception',{'target':[1,2,3,'hello']}]}]}"
      ],
      "metadata": {
        "id": "fcVwbCc1QrQI"
      },
      "execution_count": null,
      "outputs": []
    },
    {
      "cell_type": "code",
      "source": [
        "d = {'k1':[1,2,3,{'tricky':['oh','man','inception',{'target':[1,2,3,'hello']}]}]}\n",
        "print(d['k1'][3][\"tricky\"][3][\"target\"][3])"
      ],
      "metadata": {
        "id": "MvbkMZpXYRaw",
        "colab": {
          "base_uri": "https://localhost:8080/"
        },
        "outputId": "37aa36fc-57b6-4137-bbc8-4148545d2a3d"
      },
      "execution_count": 4,
      "outputs": [
        {
          "output_type": "stream",
          "name": "stdout",
          "text": [
            "hello\n"
          ]
        }
      ]
    },
    {
      "cell_type": "markdown",
      "source": [
        "# Numpy"
      ],
      "metadata": {
        "id": "bw0vVp-9ddjv"
      }
    },
    {
      "cell_type": "code",
      "source": [
        "import numpy as np"
      ],
      "metadata": {
        "id": "LLiE_TYrhA1O"
      },
      "execution_count": 5,
      "outputs": []
    },
    {
      "cell_type": "markdown",
      "source": [
        "## 4.1 Create an array of 10 zeros? \n",
        "## 4.2 Create an array of 10 fives?"
      ],
      "metadata": {
        "id": "wOg8hinbgx30"
      }
    },
    {
      "cell_type": "code",
      "source": [
        "np.zeros(10)"
      ],
      "metadata": {
        "id": "NHrirmgCYXvU",
        "colab": {
          "base_uri": "https://localhost:8080/"
        },
        "outputId": "9d1b5656-83b2-483c-c978-04585db12f0e"
      },
      "execution_count": 6,
      "outputs": [
        {
          "output_type": "execute_result",
          "data": {
            "text/plain": [
              "array([0., 0., 0., 0., 0., 0., 0., 0., 0., 0.])"
            ]
          },
          "metadata": {},
          "execution_count": 6
        }
      ]
    },
    {
      "cell_type": "code",
      "source": [
        "np.ones(10)*5"
      ],
      "metadata": {
        "id": "e4005lsTYXxx",
        "colab": {
          "base_uri": "https://localhost:8080/"
        },
        "outputId": "69e413f0-fbe3-404d-f459-bf871b1df06a"
      },
      "execution_count": 8,
      "outputs": [
        {
          "output_type": "execute_result",
          "data": {
            "text/plain": [
              "array([5., 5., 5., 5., 5., 5., 5., 5., 5., 5.])"
            ]
          },
          "metadata": {},
          "execution_count": 8
        }
      ]
    },
    {
      "cell_type": "markdown",
      "source": [
        "## 5. Create an array of all the even integers from 20 to 35"
      ],
      "metadata": {
        "id": "gZHHDUBvrMX4"
      }
    },
    {
      "cell_type": "code",
      "source": [
        "print(np.arange(20,35,2))"
      ],
      "metadata": {
        "id": "oAI2tbU2Yag-",
        "colab": {
          "base_uri": "https://localhost:8080/"
        },
        "outputId": "53cf05da-ae6e-49ea-d39b-76a39afd61b2"
      },
      "execution_count": 12,
      "outputs": [
        {
          "output_type": "stream",
          "name": "stdout",
          "text": [
            "[20 22 24 26 28 30 32 34]\n"
          ]
        }
      ]
    },
    {
      "cell_type": "markdown",
      "source": [
        "## 6. Create a 3x3 matrix with values ranging from 0 to 8"
      ],
      "metadata": {
        "id": "NaOM308NsRpZ"
      }
    },
    {
      "cell_type": "code",
      "source": [
        "np.arange(0,9).reshape(3,3)"
      ],
      "metadata": {
        "id": "tOlEVH7BYceE",
        "colab": {
          "base_uri": "https://localhost:8080/"
        },
        "outputId": "fcbe4b92-aa08-47d2-c160-4b974446bbd8"
      },
      "execution_count": 22,
      "outputs": [
        {
          "output_type": "execute_result",
          "data": {
            "text/plain": [
              "array([[0, 1, 2],\n",
              "       [3, 4, 5],\n",
              "       [6, 7, 8]])"
            ]
          },
          "metadata": {},
          "execution_count": 22
        }
      ]
    },
    {
      "cell_type": "markdown",
      "source": [
        "## 7. Concatinate a and b \n",
        "## a = np.array([1, 2, 3]), b = np.array([4, 5, 6])"
      ],
      "metadata": {
        "id": "hQ0dnhAQuU_p"
      }
    },
    {
      "cell_type": "code",
      "source": [
        "a = np.array([1, 2, 3])\n",
        "b = np.array([4, 5, 6])\n",
        "np.concatenate ((a,b),axis=0)"
      ],
      "metadata": {
        "id": "rAPSw97aYfE0",
        "colab": {
          "base_uri": "https://localhost:8080/"
        },
        "outputId": "7111c8e1-8dc0-4e97-ef5a-e668ef419f06"
      },
      "execution_count": 24,
      "outputs": [
        {
          "output_type": "execute_result",
          "data": {
            "text/plain": [
              "array([1, 2, 3, 4, 5, 6])"
            ]
          },
          "metadata": {},
          "execution_count": 24
        }
      ]
    },
    {
      "cell_type": "markdown",
      "source": [
        "# Pandas"
      ],
      "metadata": {
        "id": "dlPEY9DRwZga"
      }
    },
    {
      "cell_type": "markdown",
      "source": [
        "## 8. Create a dataframe with 3 rows and 2 columns"
      ],
      "metadata": {
        "id": "ijoYW51zwr87"
      }
    },
    {
      "cell_type": "code",
      "source": [
        "import pandas as pd\n"
      ],
      "metadata": {
        "id": "T5OxJRZ8uvR7"
      },
      "execution_count": 25,
      "outputs": []
    },
    {
      "cell_type": "code",
      "source": [
        "A=np.random.randint(10,size=(3,2))\n",
        "df=pd.DataFrame(A)\n",
        "df"
      ],
      "metadata": {
        "id": "xNpI_XXoYhs0",
        "colab": {
          "base_uri": "https://localhost:8080/",
          "height": 143
        },
        "outputId": "85ca3134-2ab2-4c3e-aea3-a5f48b597bea"
      },
      "execution_count": 26,
      "outputs": [
        {
          "output_type": "execute_result",
          "data": {
            "text/plain": [
              "   0  1\n",
              "0  5  7\n",
              "1  4  7\n",
              "2  0  0"
            ],
            "text/html": [
              "\n",
              "  <div id=\"df-aee004d3-79f6-4a00-9785-492400de4add\">\n",
              "    <div class=\"colab-df-container\">\n",
              "      <div>\n",
              "<style scoped>\n",
              "    .dataframe tbody tr th:only-of-type {\n",
              "        vertical-align: middle;\n",
              "    }\n",
              "\n",
              "    .dataframe tbody tr th {\n",
              "        vertical-align: top;\n",
              "    }\n",
              "\n",
              "    .dataframe thead th {\n",
              "        text-align: right;\n",
              "    }\n",
              "</style>\n",
              "<table border=\"1\" class=\"dataframe\">\n",
              "  <thead>\n",
              "    <tr style=\"text-align: right;\">\n",
              "      <th></th>\n",
              "      <th>0</th>\n",
              "      <th>1</th>\n",
              "    </tr>\n",
              "  </thead>\n",
              "  <tbody>\n",
              "    <tr>\n",
              "      <th>0</th>\n",
              "      <td>5</td>\n",
              "      <td>7</td>\n",
              "    </tr>\n",
              "    <tr>\n",
              "      <th>1</th>\n",
              "      <td>4</td>\n",
              "      <td>7</td>\n",
              "    </tr>\n",
              "    <tr>\n",
              "      <th>2</th>\n",
              "      <td>0</td>\n",
              "      <td>0</td>\n",
              "    </tr>\n",
              "  </tbody>\n",
              "</table>\n",
              "</div>\n",
              "      <button class=\"colab-df-convert\" onclick=\"convertToInteractive('df-aee004d3-79f6-4a00-9785-492400de4add')\"\n",
              "              title=\"Convert this dataframe to an interactive table.\"\n",
              "              style=\"display:none;\">\n",
              "        \n",
              "  <svg xmlns=\"http://www.w3.org/2000/svg\" height=\"24px\"viewBox=\"0 0 24 24\"\n",
              "       width=\"24px\">\n",
              "    <path d=\"M0 0h24v24H0V0z\" fill=\"none\"/>\n",
              "    <path d=\"M18.56 5.44l.94 2.06.94-2.06 2.06-.94-2.06-.94-.94-2.06-.94 2.06-2.06.94zm-11 1L8.5 8.5l.94-2.06 2.06-.94-2.06-.94L8.5 2.5l-.94 2.06-2.06.94zm10 10l.94 2.06.94-2.06 2.06-.94-2.06-.94-.94-2.06-.94 2.06-2.06.94z\"/><path d=\"M17.41 7.96l-1.37-1.37c-.4-.4-.92-.59-1.43-.59-.52 0-1.04.2-1.43.59L10.3 9.45l-7.72 7.72c-.78.78-.78 2.05 0 2.83L4 21.41c.39.39.9.59 1.41.59.51 0 1.02-.2 1.41-.59l7.78-7.78 2.81-2.81c.8-.78.8-2.07 0-2.86zM5.41 20L4 18.59l7.72-7.72 1.47 1.35L5.41 20z\"/>\n",
              "  </svg>\n",
              "      </button>\n",
              "      \n",
              "  <style>\n",
              "    .colab-df-container {\n",
              "      display:flex;\n",
              "      flex-wrap:wrap;\n",
              "      gap: 12px;\n",
              "    }\n",
              "\n",
              "    .colab-df-convert {\n",
              "      background-color: #E8F0FE;\n",
              "      border: none;\n",
              "      border-radius: 50%;\n",
              "      cursor: pointer;\n",
              "      display: none;\n",
              "      fill: #1967D2;\n",
              "      height: 32px;\n",
              "      padding: 0 0 0 0;\n",
              "      width: 32px;\n",
              "    }\n",
              "\n",
              "    .colab-df-convert:hover {\n",
              "      background-color: #E2EBFA;\n",
              "      box-shadow: 0px 1px 2px rgba(60, 64, 67, 0.3), 0px 1px 3px 1px rgba(60, 64, 67, 0.15);\n",
              "      fill: #174EA6;\n",
              "    }\n",
              "\n",
              "    [theme=dark] .colab-df-convert {\n",
              "      background-color: #3B4455;\n",
              "      fill: #D2E3FC;\n",
              "    }\n",
              "\n",
              "    [theme=dark] .colab-df-convert:hover {\n",
              "      background-color: #434B5C;\n",
              "      box-shadow: 0px 1px 3px 1px rgba(0, 0, 0, 0.15);\n",
              "      filter: drop-shadow(0px 1px 2px rgba(0, 0, 0, 0.3));\n",
              "      fill: #FFFFFF;\n",
              "    }\n",
              "  </style>\n",
              "\n",
              "      <script>\n",
              "        const buttonEl =\n",
              "          document.querySelector('#df-aee004d3-79f6-4a00-9785-492400de4add button.colab-df-convert');\n",
              "        buttonEl.style.display =\n",
              "          google.colab.kernel.accessAllowed ? 'block' : 'none';\n",
              "\n",
              "        async function convertToInteractive(key) {\n",
              "          const element = document.querySelector('#df-aee004d3-79f6-4a00-9785-492400de4add');\n",
              "          const dataTable =\n",
              "            await google.colab.kernel.invokeFunction('convertToInteractive',\n",
              "                                                     [key], {});\n",
              "          if (!dataTable) return;\n",
              "\n",
              "          const docLinkHtml = 'Like what you see? Visit the ' +\n",
              "            '<a target=\"_blank\" href=https://colab.research.google.com/notebooks/data_table.ipynb>data table notebook</a>'\n",
              "            + ' to learn more about interactive tables.';\n",
              "          element.innerHTML = '';\n",
              "          dataTable['output_type'] = 'display_data';\n",
              "          await google.colab.output.renderOutput(dataTable, element);\n",
              "          const docLink = document.createElement('div');\n",
              "          docLink.innerHTML = docLinkHtml;\n",
              "          element.appendChild(docLink);\n",
              "        }\n",
              "      </script>\n",
              "    </div>\n",
              "  </div>\n",
              "  "
            ]
          },
          "metadata": {},
          "execution_count": 26
        }
      ]
    },
    {
      "cell_type": "markdown",
      "source": [
        "## 9. Generate the series of dates from 1st Jan, 2023 to 10th Feb, 2023"
      ],
      "metadata": {
        "id": "UXSmdNclyJQD"
      }
    },
    {
      "cell_type": "code",
      "source": [
        "Dinesh=pd.date_range(start = '01-01-2023', end = '02-10-2023',freq ='6H')\n",
        "for val in Dinesh:\n",
        "  print(val)"
      ],
      "metadata": {
        "id": "dgyC0JhVYl4F",
        "colab": {
          "base_uri": "https://localhost:8080/"
        },
        "outputId": "7d109d19-3daf-4cb4-d73b-6d25032c12f4"
      },
      "execution_count": 35,
      "outputs": [
        {
          "output_type": "stream",
          "name": "stdout",
          "text": [
            "2023-01-01 00:00:00\n",
            "2023-01-01 06:00:00\n",
            "2023-01-01 12:00:00\n",
            "2023-01-01 18:00:00\n",
            "2023-01-02 00:00:00\n",
            "2023-01-02 06:00:00\n",
            "2023-01-02 12:00:00\n",
            "2023-01-02 18:00:00\n",
            "2023-01-03 00:00:00\n",
            "2023-01-03 06:00:00\n",
            "2023-01-03 12:00:00\n",
            "2023-01-03 18:00:00\n",
            "2023-01-04 00:00:00\n",
            "2023-01-04 06:00:00\n",
            "2023-01-04 12:00:00\n",
            "2023-01-04 18:00:00\n",
            "2023-01-05 00:00:00\n",
            "2023-01-05 06:00:00\n",
            "2023-01-05 12:00:00\n",
            "2023-01-05 18:00:00\n",
            "2023-01-06 00:00:00\n",
            "2023-01-06 06:00:00\n",
            "2023-01-06 12:00:00\n",
            "2023-01-06 18:00:00\n",
            "2023-01-07 00:00:00\n",
            "2023-01-07 06:00:00\n",
            "2023-01-07 12:00:00\n",
            "2023-01-07 18:00:00\n",
            "2023-01-08 00:00:00\n",
            "2023-01-08 06:00:00\n",
            "2023-01-08 12:00:00\n",
            "2023-01-08 18:00:00\n",
            "2023-01-09 00:00:00\n",
            "2023-01-09 06:00:00\n",
            "2023-01-09 12:00:00\n",
            "2023-01-09 18:00:00\n",
            "2023-01-10 00:00:00\n",
            "2023-01-10 06:00:00\n",
            "2023-01-10 12:00:00\n",
            "2023-01-10 18:00:00\n",
            "2023-01-11 00:00:00\n",
            "2023-01-11 06:00:00\n",
            "2023-01-11 12:00:00\n",
            "2023-01-11 18:00:00\n",
            "2023-01-12 00:00:00\n",
            "2023-01-12 06:00:00\n",
            "2023-01-12 12:00:00\n",
            "2023-01-12 18:00:00\n",
            "2023-01-13 00:00:00\n",
            "2023-01-13 06:00:00\n",
            "2023-01-13 12:00:00\n",
            "2023-01-13 18:00:00\n",
            "2023-01-14 00:00:00\n",
            "2023-01-14 06:00:00\n",
            "2023-01-14 12:00:00\n",
            "2023-01-14 18:00:00\n",
            "2023-01-15 00:00:00\n",
            "2023-01-15 06:00:00\n",
            "2023-01-15 12:00:00\n",
            "2023-01-15 18:00:00\n",
            "2023-01-16 00:00:00\n",
            "2023-01-16 06:00:00\n",
            "2023-01-16 12:00:00\n",
            "2023-01-16 18:00:00\n",
            "2023-01-17 00:00:00\n",
            "2023-01-17 06:00:00\n",
            "2023-01-17 12:00:00\n",
            "2023-01-17 18:00:00\n",
            "2023-01-18 00:00:00\n",
            "2023-01-18 06:00:00\n",
            "2023-01-18 12:00:00\n",
            "2023-01-18 18:00:00\n",
            "2023-01-19 00:00:00\n",
            "2023-01-19 06:00:00\n",
            "2023-01-19 12:00:00\n",
            "2023-01-19 18:00:00\n",
            "2023-01-20 00:00:00\n",
            "2023-01-20 06:00:00\n",
            "2023-01-20 12:00:00\n",
            "2023-01-20 18:00:00\n",
            "2023-01-21 00:00:00\n",
            "2023-01-21 06:00:00\n",
            "2023-01-21 12:00:00\n",
            "2023-01-21 18:00:00\n",
            "2023-01-22 00:00:00\n",
            "2023-01-22 06:00:00\n",
            "2023-01-22 12:00:00\n",
            "2023-01-22 18:00:00\n",
            "2023-01-23 00:00:00\n",
            "2023-01-23 06:00:00\n",
            "2023-01-23 12:00:00\n",
            "2023-01-23 18:00:00\n",
            "2023-01-24 00:00:00\n",
            "2023-01-24 06:00:00\n",
            "2023-01-24 12:00:00\n",
            "2023-01-24 18:00:00\n",
            "2023-01-25 00:00:00\n",
            "2023-01-25 06:00:00\n",
            "2023-01-25 12:00:00\n",
            "2023-01-25 18:00:00\n",
            "2023-01-26 00:00:00\n",
            "2023-01-26 06:00:00\n",
            "2023-01-26 12:00:00\n",
            "2023-01-26 18:00:00\n",
            "2023-01-27 00:00:00\n",
            "2023-01-27 06:00:00\n",
            "2023-01-27 12:00:00\n",
            "2023-01-27 18:00:00\n",
            "2023-01-28 00:00:00\n",
            "2023-01-28 06:00:00\n",
            "2023-01-28 12:00:00\n",
            "2023-01-28 18:00:00\n",
            "2023-01-29 00:00:00\n",
            "2023-01-29 06:00:00\n",
            "2023-01-29 12:00:00\n",
            "2023-01-29 18:00:00\n",
            "2023-01-30 00:00:00\n",
            "2023-01-30 06:00:00\n",
            "2023-01-30 12:00:00\n",
            "2023-01-30 18:00:00\n",
            "2023-01-31 00:00:00\n",
            "2023-01-31 06:00:00\n",
            "2023-01-31 12:00:00\n",
            "2023-01-31 18:00:00\n",
            "2023-02-01 00:00:00\n",
            "2023-02-01 06:00:00\n",
            "2023-02-01 12:00:00\n",
            "2023-02-01 18:00:00\n",
            "2023-02-02 00:00:00\n",
            "2023-02-02 06:00:00\n",
            "2023-02-02 12:00:00\n",
            "2023-02-02 18:00:00\n",
            "2023-02-03 00:00:00\n",
            "2023-02-03 06:00:00\n",
            "2023-02-03 12:00:00\n",
            "2023-02-03 18:00:00\n",
            "2023-02-04 00:00:00\n",
            "2023-02-04 06:00:00\n",
            "2023-02-04 12:00:00\n",
            "2023-02-04 18:00:00\n",
            "2023-02-05 00:00:00\n",
            "2023-02-05 06:00:00\n",
            "2023-02-05 12:00:00\n",
            "2023-02-05 18:00:00\n",
            "2023-02-06 00:00:00\n",
            "2023-02-06 06:00:00\n",
            "2023-02-06 12:00:00\n",
            "2023-02-06 18:00:00\n",
            "2023-02-07 00:00:00\n",
            "2023-02-07 06:00:00\n",
            "2023-02-07 12:00:00\n",
            "2023-02-07 18:00:00\n",
            "2023-02-08 00:00:00\n",
            "2023-02-08 06:00:00\n",
            "2023-02-08 12:00:00\n",
            "2023-02-08 18:00:00\n",
            "2023-02-09 00:00:00\n",
            "2023-02-09 06:00:00\n",
            "2023-02-09 12:00:00\n",
            "2023-02-09 18:00:00\n",
            "2023-02-10 00:00:00\n"
          ]
        }
      ]
    },
    {
      "cell_type": "markdown",
      "source": [
        "## 10. Create 2D list to DataFrame\n",
        "\n",
        "lists = [[1, 'aaa', 22],\n",
        "         [2, 'bbb', 25],\n",
        "         [3, 'ccc', 24]]"
      ],
      "metadata": {
        "id": "ZizSetD-y5az"
      }
    },
    {
      "cell_type": "code",
      "source": [
        "lists = [[1, 'aaa', 22], [2, 'bbb', 25], [3, 'ccc', 24]]"
      ],
      "metadata": {
        "id": "_XMC8aEt0llB"
      },
      "execution_count": null,
      "outputs": []
    },
    {
      "cell_type": "code",
      "source": [
        "lists = [[1, 'aaa', 22], [2, 'bbb', 25], [3, 'ccc', 24]]\n",
        "df = pd.DataFrame (lists, columns = ['Tag','Letters','Numbers'])\n",
        "print(df)"
      ],
      "metadata": {
        "id": "knH76sDKYsVX",
        "colab": {
          "base_uri": "https://localhost:8080/"
        },
        "outputId": "72b28da8-5ff1-4fe5-e830-b1950c73343b"
      },
      "execution_count": 39,
      "outputs": [
        {
          "output_type": "stream",
          "name": "stdout",
          "text": [
            "   Tag Letters  Numbers\n",
            "0    1     aaa       22\n",
            "1    2     bbb       25\n",
            "2    3     ccc       24\n"
          ]
        }
      ]
    },
    {
      "cell_type": "code",
      "source": [],
      "metadata": {
        "id": "ybDnDUORnqWS"
      },
      "execution_count": null,
      "outputs": []
    }
  ]
}